{
  "metadata": {
    "kernelspec": {
      "language": "python",
      "display_name": "Python 3",
      "name": "python3"
    },
    "language_info": {
      "name": "python",
      "version": "3.10.12",
      "mimetype": "text/x-python",
      "codemirror_mode": {
        "name": "ipython",
        "version": 3
      },
      "pygments_lexer": "ipython3",
      "nbconvert_exporter": "python",
      "file_extension": ".py"
    },
    "kaggle": {
      "accelerator": "none",
      "dataSources": [
        {
          "sourceId": 7746251,
          "sourceType": "datasetVersion",
          "datasetId": 1041311
        },
        {
          "sourceId": 10943067,
          "sourceType": "datasetVersion",
          "datasetId": 6805826
        }
      ],
      "dockerImageVersionId": 30918,
      "isInternetEnabled": true,
      "language": "python",
      "sourceType": "notebook",
      "isGpuEnabled": false
    },
    "colab": {
      "name": "Fitbit EDA",
      "provenance": []
    }
  },
  "nbformat_minor": 0,
  "nbformat": 4,
  "cells": [
    {
      "source": [
        "# IMPORTANT: SOME KAGGLE DATA SOURCES ARE PRIVATE\n",
        "# RUN THIS CELL IN ORDER TO IMPORT YOUR KAGGLE DATA SOURCES.\n",
        "import kagglehub\n",
        "kagglehub.login()\n"
      ],
      "metadata": {
        "id": "064XYjXrXAFB"
      },
      "cell_type": "code",
      "outputs": [],
      "execution_count": null
    },
    {
      "source": [
        "# IMPORTANT: RUN THIS CELL IN ORDER TO IMPORT YOUR KAGGLE DATA SOURCES,\n",
        "# THEN FEEL FREE TO DELETE THIS CELL.\n",
        "# NOTE: THIS NOTEBOOK ENVIRONMENT DIFFERS FROM KAGGLE'S PYTHON\n",
        "# ENVIRONMENT SO THERE MAY BE MISSING LIBRARIES USED BY YOUR\n",
        "# NOTEBOOK.\n",
        "\n",
        "arashnic_fitbit_path = kagglehub.dataset_download('arashnic/fitbit')\n",
        "whysokaggle_fitbit_path = kagglehub.dataset_download('whysokaggle/fitbit')\n",
        "\n",
        "print('Data source import complete.')\n"
      ],
      "metadata": {
        "id": "mphu_jSEXAFE"
      },
      "cell_type": "code",
      "outputs": [],
      "execution_count": null
    },
    {
      "cell_type": "markdown",
      "source": [
        "# **FITBIT DATA ANALYSIS**"
      ],
      "metadata": {
        "id": "_WOZjE8ZXAFH"
      }
    },
    {
      "cell_type": "code",
      "source": [
        "import numpy as np\n",
        "\n",
        "!gdown https://drive.google.com/uc?id=1vk1Pu0djiYcrdc85yUXZ_Rqq2oZNcohd"
      ],
      "metadata": {
        "_uuid": "375b7061-884a-4476-a04f-6a17d882bb80",
        "_cell_guid": "09a61e16-27ee-4c6e-b1be-9fe8f8dceb31",
        "trusted": true,
        "execution": {
          "iopub.status.busy": "2025-03-13T09:37:30.453997Z",
          "iopub.execute_input": "2025-03-13T09:37:30.45426Z",
          "iopub.status.idle": "2025-03-13T09:37:36.09377Z",
          "shell.execute_reply.started": "2025-03-13T09:37:30.454235Z",
          "shell.execute_reply": "2025-03-13T09:37:36.091564Z"
        },
        "jupyter": {
          "outputs_hidden": false
        },
        "id": "Sr4nSGrsXAFM",
        "outputId": "bba41c76-7579-4a52-b8ab-888a6da26248"
      },
      "outputs": [
        {
          "name": "stdout",
          "text": "Downloading...\nFrom: https://drive.google.com/uc?id=1vk1Pu0djiYcrdc85yUXZ_Rqq2oZNcohd\nTo: /kaggle/working/fit.txt\n100%|██████████████████████████████████████| 3.43k/3.43k [00:00<00:00, 10.2MB/s]\n",
          "output_type": "stream"
        }
      ],
      "execution_count": null
    },
    {
      "cell_type": "code",
      "source": [
        "data = np.loadtxt(\"/kaggle/working/fit.txt\", dtype=\"str\")\n",
        "data"
      ],
      "metadata": {
        "_uuid": "21ad19bc-e66f-42b3-80bd-f1e8ef5447c9",
        "_cell_guid": "69a2792a-8224-4083-b8d9-bf92381550f3",
        "trusted": true,
        "execution": {
          "iopub.status.busy": "2025-03-13T09:39:46.704766Z",
          "iopub.execute_input": "2025-03-13T09:39:46.705149Z",
          "iopub.status.idle": "2025-03-13T09:39:46.715663Z",
          "shell.execute_reply.started": "2025-03-13T09:39:46.705121Z",
          "shell.execute_reply": "2025-03-13T09:39:46.714103Z"
        },
        "jupyter": {
          "outputs_hidden": false
        },
        "id": "14R-LeC4XAFP",
        "outputId": "0ec13f94-842e-4aa3-9d07-276090025f89"
      },
      "outputs": [
        {
          "execution_count": 5,
          "output_type": "execute_result",
          "data": {
            "text/plain": "array([['06-10-2017', '5464', 'Neutral', '181', '5', 'Inactive'],\n       ['07-10-2017', '6041', 'Sad', '197', '8', 'Inactive'],\n       ['08-10-2017', '25', 'Sad', '0', '5', 'Inactive'],\n       ['09-10-2017', '5461', 'Sad', '174', '4', 'Inactive'],\n       ['10-10-2017', '6915', 'Neutral', '223', '5', 'Active'],\n       ['11-10-2017', '4545', 'Sad', '149', '6', 'Inactive'],\n       ['12-10-2017', '4340', 'Sad', '140', '6', 'Inactive'],\n       ['13-10-2017', '1230', 'Sad', '38', '7', 'Inactive'],\n       ['14-10-2017', '61', 'Sad', '1', '5', 'Inactive'],\n       ['15-10-2017', '1258', 'Sad', '40', '6', 'Inactive'],\n       ['16-10-2017', '3148', 'Sad', '101', '8', 'Inactive'],\n       ['17-10-2017', '4687', 'Sad', '152', '5', 'Inactive'],\n       ['18-10-2017', '4732', 'Happy', '150', '6', 'Active'],\n       ['19-10-2017', '3519', 'Sad', '113', '7', 'Inactive'],\n       ['20-10-2017', '1580', 'Sad', '49', '5', 'Inactive'],\n       ['21-10-2017', '2822', 'Sad', '86', '6', 'Inactive'],\n       ['22-10-2017', '181', 'Sad', '6', '8', 'Inactive'],\n       ['23-10-2017', '3158', 'Neutral', '99', '5', 'Inactive'],\n       ['24-10-2017', '4383', 'Neutral', '143', '4', 'Inactive'],\n       ['25-10-2017', '3881', 'Neutral', '125', '5', 'Inactive'],\n       ['26-10-2017', '4037', 'Neutral', '129', '6', 'Inactive'],\n       ['27-10-2017', '202', 'Neutral', '6', '8', 'Inactive'],\n       ['28-10-2017', '292', 'Neutral', '9', '5', 'Inactive'],\n       ['29-10-2017', '330', 'Happy', '10', '6', 'Inactive'],\n       ['30-10-2017', '2209', 'Neutral', '72', '5', 'Inactive'],\n       ['31-10-2017', '4550', 'Happy', '150', '8', 'Active'],\n       ['01-11-2017', '4435', 'Happy', '141', '5', 'Inactive'],\n       ['02-11-2017', '4779', 'Happy', '156', '4', 'Inactive'],\n       ['03-11-2017', '1831', 'Happy', '57', '5', 'Inactive'],\n       ['04-11-2017', '2255', 'Happy', '72', '4', 'Inactive'],\n       ['05-11-2017', '539', 'Happy', '17', '5', 'Active'],\n       ['06-11-2017', '5464', 'Happy', '181', '4', 'Inactive'],\n       ['07-11-2017', '6041', 'Neutral', '197', '3', 'Inactive'],\n       ['08-11-2017', '4068', 'Happy', '131', '2', 'Inactive'],\n       ['09-11-2017', '4683', 'Happy', '154', '9', 'Inactive'],\n       ['10-11-2017', '4033', 'Happy', '137', '5', 'Inactive'],\n       ['11-11-2017', '6314', 'Happy', '193', '6', 'Active'],\n       ['12-11-2017', '614', 'Happy', '19', '4', 'Active'],\n       ['13-11-2017', '3149', 'Happy', '101', '5', 'Active'],\n       ['14-11-2017', '4005', 'Happy', '139', '8', 'Active'],\n       ['15-11-2017', '4880', 'Happy', '164', '4', 'Active'],\n       ['16-11-2017', '4136', 'Happy', '137', '5', 'Active'],\n       ['17-11-2017', '705', 'Happy', '22', '6', 'Active'],\n       ['18-11-2017', '570', 'Neutral', '17', '5', 'Active'],\n       ['19-11-2017', '269', 'Happy', '9', '6', 'Active'],\n       ['20-11-2017', '4275', 'Happy', '145', '5', 'Inactive'],\n       ['21-11-2017', '5999', 'Happy', '192', '6', 'Inactive'],\n       ['22-11-2017', '4421', 'Happy', '146', '5', 'Inactive'],\n       ['23-11-2017', '6930', 'Happy', '234', '6', 'Inactive'],\n       ['24-11-2017', '5195', 'Happy', '167', '5', 'Inactive'],\n       ['25-11-2017', '546', 'Happy', '16', '6', 'Inactive'],\n       ['26-11-2017', '493', 'Happy', '17', '7', 'Active'],\n       ['27-11-2017', '995', 'Happy', '32', '6', 'Active'],\n       ['28-11-2017', '1163', 'Neutral', '35', '7', 'Active'],\n       ['29-11-2017', '6676', 'Sad', '220', '6', 'Active'],\n       ['30-11-2017', '3608', 'Happy', '116', '5', 'Active'],\n       ['01-12-2017', '774', 'Happy', '23', '6', 'Active'],\n       ['02-12-2017', '1421', 'Happy', '44', '7', 'Active'],\n       ['03-12-2017', '4064', 'Happy', '131', '8', 'Active'],\n       ['04-12-2017', '2725', 'Happy', '86', '8', 'Active'],\n       ['05-12-2017', '5934', 'Happy', '194', '7', 'Active'],\n       ['06-12-2017', '1867', 'Happy', '60', '8', 'Active'],\n       ['07-12-2017', '3721', 'Sad', '121', '5', 'Active'],\n       ['08-12-2017', '2374', 'Neutral', '76', '4', 'Inactive'],\n       ['09-12-2017', '2909', 'Neutral', '93', '3', 'Active'],\n       ['10-12-2017', '1648', 'Sad', '53', '3', 'Active'],\n       ['11-12-2017', '799', 'Sad', '25', '4', 'Inactive'],\n       ['12-12-2017', '7102', 'Neutral', '227', '5', 'Active'],\n       ['13-12-2017', '3941', 'Neutral', '125', '5', 'Active'],\n       ['14-12-2017', '7422', 'Happy', '243', '5', 'Active'],\n       ['15-12-2017', '437', 'Neutral', '14', '3', 'Active'],\n       ['16-12-2017', '1231', 'Neutral', '39', '4', 'Active'],\n       ['17-12-2017', '1696', 'Sad', '55', '4', 'Inactive'],\n       ['18-12-2017', '4921', 'Neutral', '158', '5', 'Active'],\n       ['19-12-2017', '221', 'Sad', '7', '5', 'Active'],\n       ['20-12-2017', '6500', 'Neutral', '213', '5', 'Active'],\n       ['21-12-2017', '3575', 'Neutral', '116', '5', 'Active'],\n       ['22-12-2017', '4061', 'Sad', '129', '5', 'Inactive'],\n       ['23-12-2017', '651', 'Sad', '21', '5', 'Inactive'],\n       ['24-12-2017', '753', 'Sad', '28', '4', 'Inactive'],\n       ['25-12-2017', '518', 'Sad', '16', '3', 'Inactive'],\n       ['26-12-2017', '5537', 'Happy', '180', '4', 'Active'],\n       ['27-12-2017', '4108', 'Neutral', '138', '5', 'Active'],\n       ['28-12-2017', '5376', 'Happy', '176', '5', 'Active'],\n       ['29-12-2017', '3066', 'Neutral', '99', '4', 'Active'],\n       ['30-12-2017', '177', 'Sad', '5', '5', 'Inactive'],\n       ['31-12-2017', '36', 'Sad', '1', '3', 'Inactive'],\n       ['01-01-2018', '299', 'Sad', '10', '3', 'Inactive'],\n       ['02-01-2018', '1447', 'Neutral', '47', '3', 'Inactive'],\n       ['03-01-2018', '2599', 'Neutral', '84', '2', 'Inactive'],\n       ['04-01-2018', '702', 'Sad', '23', '3', 'Inactive'],\n       ['05-01-2018', '133', 'Sad', '4', '2', 'Inactive'],\n       ['06-01-2018', '153', 'Happy', '0', '8', 'Inactive'],\n       ['07-01-2018', '500', 'Neutral', '0', '5', 'Active'],\n       ['08-01-2018', '2127', 'Neutral', '0', '5', 'Inactive'],\n       ['09-01-2018', '2203', 'Happy', '0', '5', 'Active']], dtype='<U10')"
          },
          "metadata": {}
        }
      ],
      "execution_count": null
    },
    {
      "cell_type": "code",
      "source": [
        "# what is the shape of this data\n",
        "\n",
        "data.shape # 96 rows/records, 6 columns/features"
      ],
      "metadata": {
        "_uuid": "a8e4244a-0584-4670-976b-a2a39e7811e2",
        "_cell_guid": "3b7978c6-8dac-4b60-b1fb-a340f086a4a6",
        "trusted": true,
        "jupyter": {
          "outputs_hidden": false
        },
        "execution": {
          "iopub.status.busy": "2025-03-06T15:41:08.1065Z",
          "iopub.execute_input": "2025-03-06T15:41:08.106992Z",
          "iopub.status.idle": "2025-03-06T15:41:08.113495Z",
          "shell.execute_reply.started": "2025-03-06T15:41:08.106954Z",
          "shell.execute_reply": "2025-03-06T15:41:08.112149Z"
        },
        "id": "IWuvapUrXAFS",
        "outputId": "67d1ad90-fc9a-42cd-850b-cd762fc912ef"
      },
      "outputs": [
        {
          "execution_count": 20,
          "output_type": "execute_result",
          "data": {
            "text/plain": "(96, 6)"
          },
          "metadata": {}
        }
      ],
      "execution_count": null
    },
    {
      "cell_type": "code",
      "source": [
        "# what is the dimensionality of this data\n",
        "\n",
        "data.ndim # this is a 2D data"
      ],
      "metadata": {
        "_uuid": "89600541-8af2-4f62-95b5-7a89827dfffb",
        "_cell_guid": "ee030175-7ed1-474b-b8c8-b7cfffd7e2dd",
        "trusted": true,
        "jupyter": {
          "outputs_hidden": false
        },
        "execution": {
          "iopub.status.busy": "2025-03-06T15:41:48.669166Z",
          "iopub.execute_input": "2025-03-06T15:41:48.669578Z",
          "iopub.status.idle": "2025-03-06T15:41:48.67499Z",
          "shell.execute_reply.started": "2025-03-06T15:41:48.669516Z",
          "shell.execute_reply": "2025-03-06T15:41:48.673895Z"
        },
        "id": "4NmacGaQXAFV",
        "outputId": "b10ef1d6-6631-493c-98e7-6b65fbf67e2b"
      },
      "outputs": [
        {
          "execution_count": 21,
          "output_type": "execute_result",
          "data": {
            "text/plain": "2"
          },
          "metadata": {}
        }
      ],
      "execution_count": null
    },
    {
      "cell_type": "code",
      "source": [
        "# how can we extract data\n",
        "\n",
        "data[0] # row number 1 is extracted"
      ],
      "metadata": {
        "_uuid": "a437d23d-c3de-42ce-94e8-0980708291a9",
        "_cell_guid": "432149e1-9a97-4b14-a491-4d772f792563",
        "trusted": true,
        "jupyter": {
          "outputs_hidden": false
        },
        "execution": {
          "iopub.status.busy": "2025-03-06T15:45:04.203077Z",
          "iopub.execute_input": "2025-03-06T15:45:04.203436Z",
          "iopub.status.idle": "2025-03-06T15:45:04.208892Z",
          "shell.execute_reply.started": "2025-03-06T15:45:04.203405Z",
          "shell.execute_reply": "2025-03-06T15:45:04.207845Z"
        },
        "id": "5wd5R4JNXAFX",
        "outputId": "e368fc00-26f9-46dd-debc-531baef58fa3"
      },
      "outputs": [
        {
          "execution_count": 22,
          "output_type": "execute_result",
          "data": {
            "text/plain": "array(['06-10-2017', '5464', 'Neutral', '181', '5', 'Inactive'],\n      dtype='<U10')"
          },
          "metadata": {}
        }
      ],
      "execution_count": null
    },
    {
      "cell_type": "code",
      "source": [
        "data[1] # row number 2 is extracted with the help of indexing"
      ],
      "metadata": {
        "_uuid": "b9fa8638-5e40-4b8b-862b-12778f0837d6",
        "_cell_guid": "0dae3471-5000-4b78-9693-767a4cb18750",
        "trusted": true,
        "jupyter": {
          "outputs_hidden": false
        },
        "execution": {
          "iopub.status.busy": "2025-03-06T15:45:23.311585Z",
          "iopub.execute_input": "2025-03-06T15:45:23.311916Z",
          "iopub.status.idle": "2025-03-06T15:45:23.317599Z",
          "shell.execute_reply.started": "2025-03-06T15:45:23.31189Z",
          "shell.execute_reply": "2025-03-06T15:45:23.316443Z"
        },
        "id": "5at7tyCKXAFd",
        "outputId": "2254843e-7e14-40d0-c095-452a0dbf7b43"
      },
      "outputs": [
        {
          "execution_count": 23,
          "output_type": "execute_result",
          "data": {
            "text/plain": "array(['07-10-2017', '6041', 'Sad', '197', '8', 'Inactive'], dtype='<U10')"
          },
          "metadata": {}
        }
      ],
      "execution_count": null
    },
    {
      "cell_type": "code",
      "source": [
        "# we can also perform slicing\n",
        "\n",
        "data[0:5] # first 5 records and features will be extracted"
      ],
      "metadata": {
        "_uuid": "cef9bcd2-0782-4a54-a3d0-10cd53222d6f",
        "_cell_guid": "6ee2220f-382c-4d09-8d62-2d8688d7a338",
        "trusted": true,
        "jupyter": {
          "outputs_hidden": false
        },
        "execution": {
          "iopub.status.busy": "2025-03-06T15:46:41.245722Z",
          "iopub.execute_input": "2025-03-06T15:46:41.246071Z",
          "iopub.status.idle": "2025-03-06T15:46:41.251605Z",
          "shell.execute_reply.started": "2025-03-06T15:46:41.246043Z",
          "shell.execute_reply": "2025-03-06T15:46:41.250669Z"
        },
        "id": "_OsBii57XAFh",
        "outputId": "7354c559-ace5-41fc-c276-586653dfc485"
      },
      "outputs": [
        {
          "execution_count": 24,
          "output_type": "execute_result",
          "data": {
            "text/plain": "array([['06-10-2017', '5464', 'Neutral', '181', '5', 'Inactive'],\n       ['07-10-2017', '6041', 'Sad', '197', '8', 'Inactive'],\n       ['08-10-2017', '25', 'Sad', '0', '5', 'Inactive'],\n       ['09-10-2017', '5461', 'Sad', '174', '4', 'Inactive'],\n       ['10-10-2017', '6915', 'Neutral', '223', '5', 'Active']],\n      dtype='<U10')"
          },
          "metadata": {}
        }
      ],
      "execution_count": null
    },
    {
      "cell_type": "code",
      "source": [
        "# get the entire dates\n",
        "\n",
        "data[:,0] # getting the entire dates using numpy slicing [R,C] R=rows, C=columns"
      ],
      "metadata": {
        "_uuid": "0af22f18-a680-46d0-a086-0ac735ac524c",
        "_cell_guid": "e97d8dcf-b4e9-4ab2-b84f-0db5f706851f",
        "trusted": true,
        "jupyter": {
          "outputs_hidden": false
        },
        "execution": {
          "iopub.status.busy": "2025-03-06T16:25:32.372915Z",
          "iopub.execute_input": "2025-03-06T16:25:32.373236Z",
          "iopub.status.idle": "2025-03-06T16:25:32.37907Z",
          "shell.execute_reply.started": "2025-03-06T16:25:32.373213Z",
          "shell.execute_reply": "2025-03-06T16:25:32.378019Z"
        },
        "id": "jHfPSq8hXAFj",
        "outputId": "067a9c25-b9de-44e8-801b-2880b9348ca9"
      },
      "outputs": [
        {
          "execution_count": 26,
          "output_type": "execute_result",
          "data": {
            "text/plain": "array(['06-10-2017', '07-10-2017', '08-10-2017', '09-10-2017',\n       '10-10-2017', '11-10-2017', '12-10-2017', '13-10-2017',\n       '14-10-2017', '15-10-2017', '16-10-2017', '17-10-2017',\n       '18-10-2017', '19-10-2017', '20-10-2017', '21-10-2017',\n       '22-10-2017', '23-10-2017', '24-10-2017', '25-10-2017',\n       '26-10-2017', '27-10-2017', '28-10-2017', '29-10-2017',\n       '30-10-2017', '31-10-2017', '01-11-2017', '02-11-2017',\n       '03-11-2017', '04-11-2017', '05-11-2017', '06-11-2017',\n       '07-11-2017', '08-11-2017', '09-11-2017', '10-11-2017',\n       '11-11-2017', '12-11-2017', '13-11-2017', '14-11-2017',\n       '15-11-2017', '16-11-2017', '17-11-2017', '18-11-2017',\n       '19-11-2017', '20-11-2017', '21-11-2017', '22-11-2017',\n       '23-11-2017', '24-11-2017', '25-11-2017', '26-11-2017',\n       '27-11-2017', '28-11-2017', '29-11-2017', '30-11-2017',\n       '01-12-2017', '02-12-2017', '03-12-2017', '04-12-2017',\n       '05-12-2017', '06-12-2017', '07-12-2017', '08-12-2017',\n       '09-12-2017', '10-12-2017', '11-12-2017', '12-12-2017',\n       '13-12-2017', '14-12-2017', '15-12-2017', '16-12-2017',\n       '17-12-2017', '18-12-2017', '19-12-2017', '20-12-2017',\n       '21-12-2017', '22-12-2017', '23-12-2017', '24-12-2017',\n       '25-12-2017', '26-12-2017', '27-12-2017', '28-12-2017',\n       '29-12-2017', '30-12-2017', '31-12-2017', '01-01-2018',\n       '02-01-2018', '03-01-2018', '04-01-2018', '05-01-2018',\n       '06-01-2018', '07-01-2018', '08-01-2018', '09-01-2018'],\n      dtype='<U10')"
          },
          "metadata": {}
        }
      ],
      "execution_count": null
    },
    {
      "cell_type": "code",
      "source": [
        "# let's transpose the data, meaning swapping rows to columns and vice versa\n",
        "\n",
        "data.T.shape"
      ],
      "metadata": {
        "_uuid": "e7f73fbc-db26-4485-8c32-e72e96450316",
        "_cell_guid": "48f3c97d-82e6-41f4-bd85-9589029d5a10",
        "trusted": true,
        "jupyter": {
          "outputs_hidden": false
        },
        "execution": {
          "iopub.status.busy": "2025-03-13T09:42:09.798138Z",
          "iopub.execute_input": "2025-03-13T09:42:09.798485Z",
          "iopub.status.idle": "2025-03-13T09:42:09.804316Z",
          "shell.execute_reply.started": "2025-03-13T09:42:09.798441Z",
          "shell.execute_reply": "2025-03-13T09:42:09.803364Z"
        },
        "id": "4WAINpIHXAFl",
        "outputId": "4e3739ef-826c-4a58-dfb0-3dd926d366b3"
      },
      "outputs": [
        {
          "execution_count": 16,
          "output_type": "execute_result",
          "data": {
            "text/plain": "(6, 96)"
          },
          "metadata": {}
        }
      ],
      "execution_count": null
    },
    {
      "cell_type": "code",
      "source": [
        "data\n",
        "\n",
        "date, step_count, mood, calories_burned, hours_of_sleep, activity_status = data.T"
      ],
      "metadata": {
        "_uuid": "f0b66f95-448a-4579-81a2-a2848928f5ef",
        "_cell_guid": "80f2841d-38dd-431d-bf09-caf06a9db4d3",
        "trusted": true,
        "jupyter": {
          "outputs_hidden": false
        },
        "execution": {
          "iopub.status.busy": "2025-03-13T09:46:38.950164Z",
          "iopub.execute_input": "2025-03-13T09:46:38.950589Z",
          "iopub.status.idle": "2025-03-13T09:46:38.955052Z",
          "shell.execute_reply.started": "2025-03-13T09:46:38.950557Z",
          "shell.execute_reply": "2025-03-13T09:46:38.95384Z"
        },
        "id": "v1-if-nGXAFm"
      },
      "outputs": [],
      "execution_count": null
    },
    {
      "cell_type": "code",
      "source": [
        "# get the step counts\n",
        "\n",
        "step_count"
      ],
      "metadata": {
        "_uuid": "2366e45d-9d7f-4a76-a424-3718cba696b4",
        "_cell_guid": "399e0e15-518b-400c-9fcd-f84b2b258e1b",
        "trusted": true,
        "jupyter": {
          "outputs_hidden": false
        },
        "execution": {
          "iopub.status.busy": "2025-03-13T09:47:37.651073Z",
          "iopub.execute_input": "2025-03-13T09:47:37.651407Z",
          "iopub.status.idle": "2025-03-13T09:47:37.657901Z",
          "shell.execute_reply.started": "2025-03-13T09:47:37.651382Z",
          "shell.execute_reply": "2025-03-13T09:47:37.656749Z"
        },
        "id": "WopsDsjGXAFn",
        "outputId": "7d7f97df-b07e-4a77-c0c5-6fa696369c8a"
      },
      "outputs": [
        {
          "execution_count": 25,
          "output_type": "execute_result",
          "data": {
            "text/plain": "array(['5464', '6041', '25', '5461', '6915', '4545', '4340', '1230', '61',\n       '1258', '3148', '4687', '4732', '3519', '1580', '2822', '181',\n       '3158', '4383', '3881', '4037', '202', '292', '330', '2209',\n       '4550', '4435', '4779', '1831', '2255', '539', '5464', '6041',\n       '4068', '4683', '4033', '6314', '614', '3149', '4005', '4880',\n       '4136', '705', '570', '269', '4275', '5999', '4421', '6930',\n       '5195', '546', '493', '995', '1163', '6676', '3608', '774', '1421',\n       '4064', '2725', '5934', '1867', '3721', '2374', '2909', '1648',\n       '799', '7102', '3941', '7422', '437', '1231', '1696', '4921',\n       '221', '6500', '3575', '4061', '651', '753', '518', '5537', '4108',\n       '5376', '3066', '177', '36', '299', '1447', '2599', '702', '133',\n       '153', '500', '2127', '2203'], dtype='<U10')"
          },
          "metadata": {}
        }
      ],
      "execution_count": null
    },
    {
      "cell_type": "code",
      "source": [
        "# noticed that step count ends with U10\n",
        "# which means it's a string; so we need to convert this into integer\n",
        "# so that we can perform calculations\n",
        "\n",
        "step_count = np.array(step_count, dtype='int')\n",
        "step_count"
      ],
      "metadata": {
        "trusted": true,
        "execution": {
          "iopub.status.busy": "2025-03-13T09:50:36.299482Z",
          "iopub.execute_input": "2025-03-13T09:50:36.300024Z",
          "iopub.status.idle": "2025-03-13T09:50:36.31178Z",
          "shell.execute_reply.started": "2025-03-13T09:50:36.299984Z",
          "shell.execute_reply": "2025-03-13T09:50:36.310772Z"
        },
        "id": "i6uoNK4uXAFn",
        "outputId": "3fcbb2d7-a563-42cd-f69d-fa38b82aa1de"
      },
      "outputs": [
        {
          "execution_count": 29,
          "output_type": "execute_result",
          "data": {
            "text/plain": "array([5464, 6041,   25, 5461, 6915, 4545, 4340, 1230,   61, 1258, 3148,\n       4687, 4732, 3519, 1580, 2822,  181, 3158, 4383, 3881, 4037,  202,\n        292,  330, 2209, 4550, 4435, 4779, 1831, 2255,  539, 5464, 6041,\n       4068, 4683, 4033, 6314,  614, 3149, 4005, 4880, 4136,  705,  570,\n        269, 4275, 5999, 4421, 6930, 5195,  546,  493,  995, 1163, 6676,\n       3608,  774, 1421, 4064, 2725, 5934, 1867, 3721, 2374, 2909, 1648,\n        799, 7102, 3941, 7422,  437, 1231, 1696, 4921,  221, 6500, 3575,\n       4061,  651,  753,  518, 5537, 4108, 5376, 3066,  177,   36,  299,\n       1447, 2599,  702,  133,  153,  500, 2127, 2203])"
          },
          "metadata": {}
        }
      ],
      "execution_count": null
    },
    {
      "cell_type": "code",
      "source": [
        "# now that step count is now converted into integer\n",
        "# we can perform arithmetic calculations\n",
        "\n",
        "np.min(step_count)\n",
        "np.max(step_count)\n",
        "np.mean(step_count)"
      ],
      "metadata": {
        "trusted": true,
        "execution": {
          "iopub.status.busy": "2025-03-13T09:56:17.767112Z",
          "iopub.execute_input": "2025-03-13T09:56:17.767482Z",
          "iopub.status.idle": "2025-03-13T09:56:17.775189Z",
          "shell.execute_reply.started": "2025-03-13T09:56:17.767439Z",
          "shell.execute_reply": "2025-03-13T09:56:17.773489Z"
        },
        "id": "AKz3fhKFXAFp",
        "outputId": "4a99f0a4-31ab-415f-9034-cd78c982dd74"
      },
      "outputs": [
        {
          "execution_count": 31,
          "output_type": "execute_result",
          "data": {
            "text/plain": "2935.9375"
          },
          "metadata": {}
        }
      ],
      "execution_count": null
    },
    {
      "cell_type": "code",
      "source": [
        "# get the calories burned and convert it into integer\n",
        "\n",
        "calories_burned = np.array(calories_burned, dtype='int')\n",
        "calories_burned"
      ],
      "metadata": {
        "_uuid": "762a2ea3-db4c-4e0b-a299-b062ecaf2093",
        "_cell_guid": "d7ee653c-3b3b-47b6-bdb8-07b1f54a4166",
        "trusted": true,
        "jupyter": {
          "outputs_hidden": false
        },
        "execution": {
          "iopub.status.busy": "2025-03-13T09:57:27.568761Z",
          "iopub.execute_input": "2025-03-13T09:57:27.569145Z",
          "iopub.status.idle": "2025-03-13T09:57:27.577261Z",
          "shell.execute_reply.started": "2025-03-13T09:57:27.569113Z",
          "shell.execute_reply": "2025-03-13T09:57:27.576029Z"
        },
        "id": "PdyIzwasXAFp",
        "outputId": "bd6d53c7-2c8d-430b-9810-de7c08953a26"
      },
      "outputs": [
        {
          "execution_count": 34,
          "output_type": "execute_result",
          "data": {
            "text/plain": "array([181, 197,   0, 174, 223, 149, 140,  38,   1,  40, 101, 152, 150,\n       113,  49,  86,   6,  99, 143, 125, 129,   6,   9,  10,  72, 150,\n       141, 156,  57,  72,  17, 181, 197, 131, 154, 137, 193,  19, 101,\n       139, 164, 137,  22,  17,   9, 145, 192, 146, 234, 167,  16,  17,\n        32,  35, 220, 116,  23,  44, 131,  86, 194,  60, 121,  76,  93,\n        53,  25, 227, 125, 243,  14,  39,  55, 158,   7, 213, 116, 129,\n        21,  28,  16, 180, 138, 176,  99,   5,   1,  10,  47,  84,  23,\n         4,   0,   0,   0,   0])"
          },
          "metadata": {}
        }
      ],
      "execution_count": null
    },
    {
      "cell_type": "code",
      "source": [
        "# get calories that is more than 100 using slicing\n",
        "\n",
        "good_calories = calories_burned[calories_burned > 100]\n",
        "good_calories"
      ],
      "metadata": {
        "_uuid": "e1d31ce0-8b61-4e19-9d77-f437458efe64",
        "_cell_guid": "a43f36a1-b1fc-420f-8b78-39fe549b1989",
        "trusted": true,
        "jupyter": {
          "outputs_hidden": false
        },
        "execution": {
          "iopub.status.busy": "2025-03-13T10:00:19.475159Z",
          "iopub.execute_input": "2025-03-13T10:00:19.475607Z",
          "iopub.status.idle": "2025-03-13T10:00:19.487491Z",
          "shell.execute_reply.started": "2025-03-13T10:00:19.475565Z",
          "shell.execute_reply": "2025-03-13T10:00:19.486201Z"
        },
        "id": "VoNI2wBCXAFr",
        "outputId": "88cac846-0800-4510-f32c-42291b17194c"
      },
      "outputs": [
        {
          "execution_count": 35,
          "output_type": "execute_result",
          "data": {
            "text/plain": "array([181, 197, 174, 223, 149, 140, 101, 152, 150, 113, 143, 125, 129,\n       150, 141, 156, 181, 197, 131, 154, 137, 193, 101, 139, 164, 137,\n       145, 192, 146, 234, 167, 220, 116, 131, 194, 121, 227, 125, 243,\n       158, 213, 116, 129, 180, 138, 176])"
          },
          "metadata": {}
        }
      ],
      "execution_count": null
    },
    {
      "cell_type": "markdown",
      "source": [
        "Let us understand the correlation between walking and mood"
      ],
      "metadata": {
        "id": "sND7vFHfXAFs"
      }
    },
    {
      "cell_type": "code",
      "source": [
        "mood\n",
        "\n",
        "np.unique(mood)\n",
        "\n",
        "# let's count total number of steps people took when they were happy\n",
        "\n",
        "happy_steps = step_count[mood == \"Happy\"]\n",
        "h = round(np.mean(happy_steps))\n",
        "\n",
        "# now let's get the mean of this happy steps for understanding\n",
        "\n",
        "print(f\"People took an average of {h} steps when they were Happy\")"
      ],
      "metadata": {
        "_uuid": "9aac3b9f-2061-4dab-8529-e314d62de2b5",
        "_cell_guid": "00aed997-b1fd-49cd-abbd-b91f231f4f48",
        "trusted": true,
        "jupyter": {
          "outputs_hidden": false
        },
        "execution": {
          "iopub.status.busy": "2025-03-13T10:50:49.894945Z",
          "iopub.execute_input": "2025-03-13T10:50:49.895321Z",
          "iopub.status.idle": "2025-03-13T10:50:49.902013Z",
          "shell.execute_reply.started": "2025-03-13T10:50:49.895294Z",
          "shell.execute_reply": "2025-03-13T10:50:49.900754Z"
        },
        "id": "2dVla1a8XAFt",
        "outputId": "e530188d-e605-47bb-91fd-9c97442f4fd2"
      },
      "outputs": [
        {
          "name": "stdout",
          "text": "People took an average of 3393 steps when they were Happy\n",
          "output_type": "stream"
        }
      ],
      "execution_count": null
    },
    {
      "cell_type": "markdown",
      "source": [
        "Let's do the same thing with sad and neutral mood\n"
      ],
      "metadata": {
        "id": "L4JXqGkgXAFu"
      }
    },
    {
      "cell_type": "code",
      "source": [
        "sad_steps = step_count[mood == \"Sad\"]\n",
        "s = round(np.mean(sad_steps))\n",
        "\n",
        "neutral_steps = step_count[mood == \"Neutral\"]\n",
        "n = round(np.mean(neutral_steps))\n",
        "\n",
        "print(f\"People took an average of {s} steps when they were Sad\")\n",
        "print(f\"People took an average of {n} steps when they were Neutral\")"
      ],
      "metadata": {
        "trusted": true,
        "execution": {
          "iopub.status.busy": "2025-03-13T10:51:45.2402Z",
          "iopub.execute_input": "2025-03-13T10:51:45.240626Z",
          "iopub.status.idle": "2025-03-13T10:51:45.248153Z",
          "shell.execute_reply.started": "2025-03-13T10:51:45.240592Z",
          "shell.execute_reply": "2025-03-13T10:51:45.246714Z"
        },
        "id": "vWqzXpUGXAFv",
        "outputId": "f1f6c8e3-a26c-4982-b63f-48ab35831324"
      },
      "outputs": [
        {
          "name": "stdout",
          "text": "People took an average of 2103 steps when they were Sad\nPeople took an average of 3154 steps when they were Neutral\n",
          "output_type": "stream"
        }
      ],
      "execution_count": null
    },
    {
      "cell_type": "markdown",
      "source": [
        "# We can conclude that the more people walk, the more they tend to be Happy"
      ],
      "metadata": {
        "id": "tPo0QAbpXAFv"
      }
    },
    {
      "cell_type": "markdown",
      "source": [
        "Now, let us check the correlation between mood and sleep"
      ],
      "metadata": {
        "id": "B4B6eGaAXAFw"
      }
    },
    {
      "cell_type": "code",
      "source": [
        "sleep = np.array(hours_of_sleep, dtype='int')\n",
        "\n",
        "happy_sleep = sleep[mood == 'Happy']\n",
        "a = round(np.mean(happy_sleep))\n",
        "print(f'Please sleep {a} hours on an average when they are Happy')\n",
        "\n",
        "sad_sleep = sleep[mood == 'Sad']\n",
        "s = round(np.mean(sad_sleep))\n",
        "print(f'Please sleep {s} hours on an average when they are Sad')\n",
        "\n",
        "neutral_sleep = sleep[mood == 'Neutral']\n",
        "n = round(np.mean(neutral_sleep))\n",
        "print(f'Please sleep {n} hours on an average when they are Neutral')"
      ],
      "metadata": {
        "trusted": true,
        "execution": {
          "iopub.status.busy": "2025-03-13T11:52:38.120374Z",
          "iopub.execute_input": "2025-03-13T11:52:38.120866Z",
          "iopub.status.idle": "2025-03-13T11:52:38.129092Z",
          "shell.execute_reply.started": "2025-03-13T11:52:38.120833Z",
          "shell.execute_reply": "2025-03-13T11:52:38.127786Z"
        },
        "id": "-OaFwTaoXAFw",
        "outputId": "6b6c1511-2dbb-44d7-f77b-b8b2e2ddcef1"
      },
      "outputs": [
        {
          "name": "stdout",
          "text": "Please sleep 6 hours on an average when they are Happy\nPlease sleep 5 hours on an average when they are Sad\nPlease sleep 5 hours on an average when they are Neutral\n",
          "output_type": "stream"
        }
      ],
      "execution_count": null
    },
    {
      "cell_type": "markdown",
      "source": [
        "# With the above analysis, we can conclude that Happy people sleep more"
      ],
      "metadata": {
        "id": "g-UeDDFIXAFx"
      }
    },
    {
      "cell_type": "code",
      "source": [],
      "metadata": {
        "trusted": true,
        "id": "xRGU8qAVXAFy"
      },
      "outputs": [],
      "execution_count": null
    }
  ]
}